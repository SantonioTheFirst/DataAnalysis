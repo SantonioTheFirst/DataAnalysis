{
  "nbformat": 4,
  "nbformat_minor": 0,
  "metadata": {
    "colab": {
      "name": "LSTM.ipynb",
      "provenance": [],
      "authorship_tag": "ABX9TyPxHmnbvDBLUrmWB0OHlRTc",
      "include_colab_link": true
    },
    "kernelspec": {
      "name": "python3",
      "display_name": "Python 3"
    },
    "language_info": {
      "name": "python"
    },
    "accelerator": "GPU"
  },
  "cells": [
    {
      "cell_type": "markdown",
      "metadata": {
        "id": "view-in-github",
        "colab_type": "text"
      },
      "source": [
        "<a href=\"https://colab.research.google.com/github/SantonioTheFirst/DataAnalysis/blob/main/lab4/LSTM_task3.ipynb\" target=\"_parent\"><img src=\"https://colab.research.google.com/assets/colab-badge.svg\" alt=\"Open In Colab\"/></a>"
      ]
    },
    {
      "cell_type": "code",
      "execution_count": null,
      "metadata": {
        "id": "ks4RjnonVLao"
      },
      "outputs": [],
      "source": [
        "!mkdir ~/.kaggle\n",
        "!cp kaggle.json ~/.kaggle/\n",
        "!chmod 777 ~/.kaggle/kaggle.json"
      ]
    },
    {
      "cell_type": "code",
      "source": [
        "!kaggle datasets download -d daiearth22/uniqlo-fastretailing-stock-price-prediction"
      ],
      "metadata": {
        "colab": {
          "base_uri": "https://localhost:8080/"
        },
        "id": "VupAKkavVmaH",
        "outputId": "a78c8490-236f-4dcf-cbd2-c2c0bc628070"
      },
      "execution_count": null,
      "outputs": [
        {
          "output_type": "stream",
          "name": "stdout",
          "text": [
            "Warning: Your Kaggle API key is readable by other users on this system! To fix this, you can run 'chmod 600 /root/.kaggle/kaggle.json'\n",
            "Downloading uniqlo-fastretailing-stock-price-prediction.zip to /content\n",
            "  0% 0.00/24.7k [00:00<?, ?B/s]\n",
            "100% 24.7k/24.7k [00:00<00:00, 10.3MB/s]\n"
          ]
        }
      ]
    },
    {
      "cell_type": "code",
      "source": [
        "!unzip -q uniqlo-fastretailing-stock-price-prediction.zip"
      ],
      "metadata": {
        "id": "iCiNynmcV8tM"
      },
      "execution_count": null,
      "outputs": []
    },
    {
      "cell_type": "code",
      "source": [
        "import numpy as np\n",
        "import pandas as pd\n",
        "import tensorflow\n",
        "from tensorflow import keras\n",
        "from tensorflow.keras.models import Sequential\n",
        "from tensorflow.keras.layers import LSTM, Dense\n",
        "from tensorflow.keras.preprocessing import timeseries_dataset_from_array\n",
        "from tensorflow.keras.callbacks import EarlyStopping, ModelCheckpoint\n",
        "from sklearn.preprocessing import StandardScaler\n",
        "%matplotlib inline\n",
        "from matplotlib import pyplot as plt\n",
        "import seaborn as sns "
      ],
      "metadata": {
        "id": "rX_mY8Q3V_61"
      },
      "execution_count": null,
      "outputs": []
    },
    {
      "cell_type": "code",
      "source": [
        "sns.set_style('darkgrid')"
      ],
      "metadata": {
        "id": "ogbVvmA0XBE3"
      },
      "execution_count": null,
      "outputs": []
    },
    {
      "cell_type": "code",
      "source": [
        "train = pd.read_csv('Uniqlo(FastRetailing) 2012-2016 Training - stocks2012-2016.csv', parse_dates=['Date'])"
      ],
      "metadata": {
        "id": "H0yV_7RPXFlf"
      },
      "execution_count": null,
      "outputs": []
    },
    {
      "cell_type": "code",
      "source": [
        "train.head()"
      ],
      "metadata": {
        "colab": {
          "base_uri": "https://localhost:8080/",
          "height": 206
        },
        "id": "-zF1OBI6XV4h",
        "outputId": "5a52c21f-47c9-412a-bf2a-f830e432c910"
      },
      "execution_count": null,
      "outputs": [
        {
          "output_type": "execute_result",
          "data": {
            "text/html": [
              "\n",
              "  <div id=\"df-400d3740-2c88-4984-b749-4752c6625d22\">\n",
              "    <div class=\"colab-df-container\">\n",
              "      <div>\n",
              "<style scoped>\n",
              "    .dataframe tbody tr th:only-of-type {\n",
              "        vertical-align: middle;\n",
              "    }\n",
              "\n",
              "    .dataframe tbody tr th {\n",
              "        vertical-align: top;\n",
              "    }\n",
              "\n",
              "    .dataframe thead th {\n",
              "        text-align: right;\n",
              "    }\n",
              "</style>\n",
              "<table border=\"1\" class=\"dataframe\">\n",
              "  <thead>\n",
              "    <tr style=\"text-align: right;\">\n",
              "      <th></th>\n",
              "      <th>Date</th>\n",
              "      <th>Open</th>\n",
              "      <th>High</th>\n",
              "      <th>Low</th>\n",
              "      <th>Close</th>\n",
              "      <th>Volume</th>\n",
              "      <th>Stock Trading</th>\n",
              "    </tr>\n",
              "  </thead>\n",
              "  <tbody>\n",
              "    <tr>\n",
              "      <th>0</th>\n",
              "      <td>2016-12-30</td>\n",
              "      <td>42120</td>\n",
              "      <td>42330</td>\n",
              "      <td>41700</td>\n",
              "      <td>41830</td>\n",
              "      <td>610000</td>\n",
              "      <td>25628028000</td>\n",
              "    </tr>\n",
              "    <tr>\n",
              "      <th>1</th>\n",
              "      <td>2016-12-29</td>\n",
              "      <td>43000</td>\n",
              "      <td>43220</td>\n",
              "      <td>42540</td>\n",
              "      <td>42660</td>\n",
              "      <td>448400</td>\n",
              "      <td>19188227000</td>\n",
              "    </tr>\n",
              "    <tr>\n",
              "      <th>2</th>\n",
              "      <td>2016-12-28</td>\n",
              "      <td>43940</td>\n",
              "      <td>43970</td>\n",
              "      <td>43270</td>\n",
              "      <td>43270</td>\n",
              "      <td>339900</td>\n",
              "      <td>14780670000</td>\n",
              "    </tr>\n",
              "    <tr>\n",
              "      <th>3</th>\n",
              "      <td>2016-12-27</td>\n",
              "      <td>43140</td>\n",
              "      <td>43700</td>\n",
              "      <td>43140</td>\n",
              "      <td>43620</td>\n",
              "      <td>400100</td>\n",
              "      <td>17427993000</td>\n",
              "    </tr>\n",
              "    <tr>\n",
              "      <th>4</th>\n",
              "      <td>2016-12-26</td>\n",
              "      <td>43310</td>\n",
              "      <td>43660</td>\n",
              "      <td>43090</td>\n",
              "      <td>43340</td>\n",
              "      <td>358200</td>\n",
              "      <td>15547803000</td>\n",
              "    </tr>\n",
              "  </tbody>\n",
              "</table>\n",
              "</div>\n",
              "      <button class=\"colab-df-convert\" onclick=\"convertToInteractive('df-400d3740-2c88-4984-b749-4752c6625d22')\"\n",
              "              title=\"Convert this dataframe to an interactive table.\"\n",
              "              style=\"display:none;\">\n",
              "        \n",
              "  <svg xmlns=\"http://www.w3.org/2000/svg\" height=\"24px\"viewBox=\"0 0 24 24\"\n",
              "       width=\"24px\">\n",
              "    <path d=\"M0 0h24v24H0V0z\" fill=\"none\"/>\n",
              "    <path d=\"M18.56 5.44l.94 2.06.94-2.06 2.06-.94-2.06-.94-.94-2.06-.94 2.06-2.06.94zm-11 1L8.5 8.5l.94-2.06 2.06-.94-2.06-.94L8.5 2.5l-.94 2.06-2.06.94zm10 10l.94 2.06.94-2.06 2.06-.94-2.06-.94-.94-2.06-.94 2.06-2.06.94z\"/><path d=\"M17.41 7.96l-1.37-1.37c-.4-.4-.92-.59-1.43-.59-.52 0-1.04.2-1.43.59L10.3 9.45l-7.72 7.72c-.78.78-.78 2.05 0 2.83L4 21.41c.39.39.9.59 1.41.59.51 0 1.02-.2 1.41-.59l7.78-7.78 2.81-2.81c.8-.78.8-2.07 0-2.86zM5.41 20L4 18.59l7.72-7.72 1.47 1.35L5.41 20z\"/>\n",
              "  </svg>\n",
              "      </button>\n",
              "      \n",
              "  <style>\n",
              "    .colab-df-container {\n",
              "      display:flex;\n",
              "      flex-wrap:wrap;\n",
              "      gap: 12px;\n",
              "    }\n",
              "\n",
              "    .colab-df-convert {\n",
              "      background-color: #E8F0FE;\n",
              "      border: none;\n",
              "      border-radius: 50%;\n",
              "      cursor: pointer;\n",
              "      display: none;\n",
              "      fill: #1967D2;\n",
              "      height: 32px;\n",
              "      padding: 0 0 0 0;\n",
              "      width: 32px;\n",
              "    }\n",
              "\n",
              "    .colab-df-convert:hover {\n",
              "      background-color: #E2EBFA;\n",
              "      box-shadow: 0px 1px 2px rgba(60, 64, 67, 0.3), 0px 1px 3px 1px rgba(60, 64, 67, 0.15);\n",
              "      fill: #174EA6;\n",
              "    }\n",
              "\n",
              "    [theme=dark] .colab-df-convert {\n",
              "      background-color: #3B4455;\n",
              "      fill: #D2E3FC;\n",
              "    }\n",
              "\n",
              "    [theme=dark] .colab-df-convert:hover {\n",
              "      background-color: #434B5C;\n",
              "      box-shadow: 0px 1px 3px 1px rgba(0, 0, 0, 0.15);\n",
              "      filter: drop-shadow(0px 1px 2px rgba(0, 0, 0, 0.3));\n",
              "      fill: #FFFFFF;\n",
              "    }\n",
              "  </style>\n",
              "\n",
              "      <script>\n",
              "        const buttonEl =\n",
              "          document.querySelector('#df-400d3740-2c88-4984-b749-4752c6625d22 button.colab-df-convert');\n",
              "        buttonEl.style.display =\n",
              "          google.colab.kernel.accessAllowed ? 'block' : 'none';\n",
              "\n",
              "        async function convertToInteractive(key) {\n",
              "          const element = document.querySelector('#df-400d3740-2c88-4984-b749-4752c6625d22');\n",
              "          const dataTable =\n",
              "            await google.colab.kernel.invokeFunction('convertToInteractive',\n",
              "                                                     [key], {});\n",
              "          if (!dataTable) return;\n",
              "\n",
              "          const docLinkHtml = 'Like what you see? Visit the ' +\n",
              "            '<a target=\"_blank\" href=https://colab.research.google.com/notebooks/data_table.ipynb>data table notebook</a>'\n",
              "            + ' to learn more about interactive tables.';\n",
              "          element.innerHTML = '';\n",
              "          dataTable['output_type'] = 'display_data';\n",
              "          await google.colab.output.renderOutput(dataTable, element);\n",
              "          const docLink = document.createElement('div');\n",
              "          docLink.innerHTML = docLinkHtml;\n",
              "          element.appendChild(docLink);\n",
              "        }\n",
              "      </script>\n",
              "    </div>\n",
              "  </div>\n",
              "  "
            ],
            "text/plain": [
              "        Date   Open   High    Low  Close  Volume  Stock Trading\n",
              "0 2016-12-30  42120  42330  41700  41830  610000    25628028000\n",
              "1 2016-12-29  43000  43220  42540  42660  448400    19188227000\n",
              "2 2016-12-28  43940  43970  43270  43270  339900    14780670000\n",
              "3 2016-12-27  43140  43700  43140  43620  400100    17427993000\n",
              "4 2016-12-26  43310  43660  43090  43340  358200    15547803000"
            ]
          },
          "metadata": {},
          "execution_count": 7
        }
      ]
    },
    {
      "cell_type": "code",
      "source": [
        "window_size = 7\n",
        "stride = 1\n",
        "batch_size = 2"
      ],
      "metadata": {
        "id": "kfzr09uJXpoT"
      },
      "execution_count": null,
      "outputs": []
    },
    {
      "cell_type": "code",
      "source": [
        "train.sort_values(['Date'], ascending=True, inplace=True)"
      ],
      "metadata": {
        "id": "rR963yRQYOvG"
      },
      "execution_count": null,
      "outputs": []
    },
    {
      "cell_type": "code",
      "source": [
        "train.head()"
      ],
      "metadata": {
        "colab": {
          "base_uri": "https://localhost:8080/",
          "height": 206
        },
        "id": "srC0RPJ9YYIe",
        "outputId": "d768238f-2231-47ee-ef9a-0cc86c677ed6"
      },
      "execution_count": null,
      "outputs": [
        {
          "output_type": "execute_result",
          "data": {
            "text/html": [
              "\n",
              "  <div id=\"df-ac77974b-de1b-45ce-aa09-2087f4027262\">\n",
              "    <div class=\"colab-df-container\">\n",
              "      <div>\n",
              "<style scoped>\n",
              "    .dataframe tbody tr th:only-of-type {\n",
              "        vertical-align: middle;\n",
              "    }\n",
              "\n",
              "    .dataframe tbody tr th {\n",
              "        vertical-align: top;\n",
              "    }\n",
              "\n",
              "    .dataframe thead th {\n",
              "        text-align: right;\n",
              "    }\n",
              "</style>\n",
              "<table border=\"1\" class=\"dataframe\">\n",
              "  <thead>\n",
              "    <tr style=\"text-align: right;\">\n",
              "      <th></th>\n",
              "      <th>Date</th>\n",
              "      <th>Open</th>\n",
              "      <th>High</th>\n",
              "      <th>Low</th>\n",
              "      <th>Close</th>\n",
              "      <th>Volume</th>\n",
              "      <th>Stock Trading</th>\n",
              "    </tr>\n",
              "  </thead>\n",
              "  <tbody>\n",
              "    <tr>\n",
              "      <th>1225</th>\n",
              "      <td>2012-01-04</td>\n",
              "      <td>14050</td>\n",
              "      <td>14050</td>\n",
              "      <td>13700</td>\n",
              "      <td>13720</td>\n",
              "      <td>559100</td>\n",
              "      <td>7719804000</td>\n",
              "    </tr>\n",
              "    <tr>\n",
              "      <th>1224</th>\n",
              "      <td>2012-01-05</td>\n",
              "      <td>13720</td>\n",
              "      <td>13840</td>\n",
              "      <td>13600</td>\n",
              "      <td>13800</td>\n",
              "      <td>511500</td>\n",
              "      <td>7030811000</td>\n",
              "    </tr>\n",
              "    <tr>\n",
              "      <th>1223</th>\n",
              "      <td>2012-01-06</td>\n",
              "      <td>13990</td>\n",
              "      <td>14030</td>\n",
              "      <td>13790</td>\n",
              "      <td>13850</td>\n",
              "      <td>765500</td>\n",
              "      <td>10635609000</td>\n",
              "    </tr>\n",
              "    <tr>\n",
              "      <th>1222</th>\n",
              "      <td>2012-01-10</td>\n",
              "      <td>13890</td>\n",
              "      <td>14390</td>\n",
              "      <td>13860</td>\n",
              "      <td>14390</td>\n",
              "      <td>952300</td>\n",
              "      <td>13533413000</td>\n",
              "    </tr>\n",
              "    <tr>\n",
              "      <th>1221</th>\n",
              "      <td>2012-01-11</td>\n",
              "      <td>14360</td>\n",
              "      <td>14750</td>\n",
              "      <td>14280</td>\n",
              "      <td>14590</td>\n",
              "      <td>1043400</td>\n",
              "      <td>15191988000</td>\n",
              "    </tr>\n",
              "  </tbody>\n",
              "</table>\n",
              "</div>\n",
              "      <button class=\"colab-df-convert\" onclick=\"convertToInteractive('df-ac77974b-de1b-45ce-aa09-2087f4027262')\"\n",
              "              title=\"Convert this dataframe to an interactive table.\"\n",
              "              style=\"display:none;\">\n",
              "        \n",
              "  <svg xmlns=\"http://www.w3.org/2000/svg\" height=\"24px\"viewBox=\"0 0 24 24\"\n",
              "       width=\"24px\">\n",
              "    <path d=\"M0 0h24v24H0V0z\" fill=\"none\"/>\n",
              "    <path d=\"M18.56 5.44l.94 2.06.94-2.06 2.06-.94-2.06-.94-.94-2.06-.94 2.06-2.06.94zm-11 1L8.5 8.5l.94-2.06 2.06-.94-2.06-.94L8.5 2.5l-.94 2.06-2.06.94zm10 10l.94 2.06.94-2.06 2.06-.94-2.06-.94-.94-2.06-.94 2.06-2.06.94z\"/><path d=\"M17.41 7.96l-1.37-1.37c-.4-.4-.92-.59-1.43-.59-.52 0-1.04.2-1.43.59L10.3 9.45l-7.72 7.72c-.78.78-.78 2.05 0 2.83L4 21.41c.39.39.9.59 1.41.59.51 0 1.02-.2 1.41-.59l7.78-7.78 2.81-2.81c.8-.78.8-2.07 0-2.86zM5.41 20L4 18.59l7.72-7.72 1.47 1.35L5.41 20z\"/>\n",
              "  </svg>\n",
              "      </button>\n",
              "      \n",
              "  <style>\n",
              "    .colab-df-container {\n",
              "      display:flex;\n",
              "      flex-wrap:wrap;\n",
              "      gap: 12px;\n",
              "    }\n",
              "\n",
              "    .colab-df-convert {\n",
              "      background-color: #E8F0FE;\n",
              "      border: none;\n",
              "      border-radius: 50%;\n",
              "      cursor: pointer;\n",
              "      display: none;\n",
              "      fill: #1967D2;\n",
              "      height: 32px;\n",
              "      padding: 0 0 0 0;\n",
              "      width: 32px;\n",
              "    }\n",
              "\n",
              "    .colab-df-convert:hover {\n",
              "      background-color: #E2EBFA;\n",
              "      box-shadow: 0px 1px 2px rgba(60, 64, 67, 0.3), 0px 1px 3px 1px rgba(60, 64, 67, 0.15);\n",
              "      fill: #174EA6;\n",
              "    }\n",
              "\n",
              "    [theme=dark] .colab-df-convert {\n",
              "      background-color: #3B4455;\n",
              "      fill: #D2E3FC;\n",
              "    }\n",
              "\n",
              "    [theme=dark] .colab-df-convert:hover {\n",
              "      background-color: #434B5C;\n",
              "      box-shadow: 0px 1px 3px 1px rgba(0, 0, 0, 0.15);\n",
              "      filter: drop-shadow(0px 1px 2px rgba(0, 0, 0, 0.3));\n",
              "      fill: #FFFFFF;\n",
              "    }\n",
              "  </style>\n",
              "\n",
              "      <script>\n",
              "        const buttonEl =\n",
              "          document.querySelector('#df-ac77974b-de1b-45ce-aa09-2087f4027262 button.colab-df-convert');\n",
              "        buttonEl.style.display =\n",
              "          google.colab.kernel.accessAllowed ? 'block' : 'none';\n",
              "\n",
              "        async function convertToInteractive(key) {\n",
              "          const element = document.querySelector('#df-ac77974b-de1b-45ce-aa09-2087f4027262');\n",
              "          const dataTable =\n",
              "            await google.colab.kernel.invokeFunction('convertToInteractive',\n",
              "                                                     [key], {});\n",
              "          if (!dataTable) return;\n",
              "\n",
              "          const docLinkHtml = 'Like what you see? Visit the ' +\n",
              "            '<a target=\"_blank\" href=https://colab.research.google.com/notebooks/data_table.ipynb>data table notebook</a>'\n",
              "            + ' to learn more about interactive tables.';\n",
              "          element.innerHTML = '';\n",
              "          dataTable['output_type'] = 'display_data';\n",
              "          await google.colab.output.renderOutput(dataTable, element);\n",
              "          const docLink = document.createElement('div');\n",
              "          docLink.innerHTML = docLinkHtml;\n",
              "          element.appendChild(docLink);\n",
              "        }\n",
              "      </script>\n",
              "    </div>\n",
              "  </div>\n",
              "  "
            ],
            "text/plain": [
              "           Date   Open   High    Low  Close   Volume  Stock Trading\n",
              "1225 2012-01-04  14050  14050  13700  13720   559100     7719804000\n",
              "1224 2012-01-05  13720  13840  13600  13800   511500     7030811000\n",
              "1223 2012-01-06  13990  14030  13790  13850   765500    10635609000\n",
              "1222 2012-01-10  13890  14390  13860  14390   952300    13533413000\n",
              "1221 2012-01-11  14360  14750  14280  14590  1043400    15191988000"
            ]
          },
          "metadata": {},
          "execution_count": 10
        }
      ]
    },
    {
      "cell_type": "code",
      "source": [
        "scaler = StandardScaler()\n",
        "scaler.fit(train[['Low']])\n",
        "\n",
        "def get_dataset(df, window_size, stride, batch_size, scale=True, shuffle=True):\n",
        "    data = df[['Low']].iloc[:-window_size]\n",
        "    if scale:\n",
        "        data = scaler.transform(data)\n",
        "    data = np.array(data, dtype=np.float32)\n",
        "    # print(data.shape)\n",
        "    ds = timeseries_dataset_from_array(\n",
        "        data = data,\n",
        "        targets = df['Low'].iloc[window_size:],\n",
        "        sequence_length = window_size,\n",
        "        batch_size = batch_size,\n",
        "        shuffle = shuffle\n",
        "    )\n",
        "\n",
        "    return ds"
      ],
      "metadata": {
        "id": "ROYGFqOxYeHd"
      },
      "execution_count": null,
      "outputs": []
    },
    {
      "cell_type": "code",
      "source": [
        "train_size = int(len(train['Low']) * 0.9)\n",
        "val_size = int(len(train['Low']) * 0.1)\n",
        "# train_size, val_size\n",
        "example_ds = get_dataset(train.iloc[:train_size], window_size, stride, batch_size, True, True)\n",
        "val_ds = get_dataset(train.iloc[-val_size:], window_size, stride, batch_size, True, True)"
      ],
      "metadata": {
        "id": "zVSPX207ZrQh"
      },
      "execution_count": null,
      "outputs": []
    },
    {
      "cell_type": "code",
      "source": [
        "example_feature, example_label = next(example_ds.as_numpy_iterator())"
      ],
      "metadata": {
        "id": "pTd2tES2akT1"
      },
      "execution_count": null,
      "outputs": []
    },
    {
      "cell_type": "code",
      "source": [
        "example_feature"
      ],
      "metadata": {
        "colab": {
          "base_uri": "https://localhost:8080/"
        },
        "id": "mSEJYutFbHuc",
        "outputId": "dc37a8b9-65d7-4418-dffc-7142a2d60576"
      },
      "execution_count": null,
      "outputs": [
        {
          "output_type": "execute_result",
          "data": {
            "text/plain": [
              "array([[[0.7765281],\n",
              "        [0.7933643],\n",
              "        [0.9102817],\n",
              "        [0.897187 ],\n",
              "        [0.9009283],\n",
              "        [0.9018637],\n",
              "        [0.9037344],\n",
              "        [0.9710788],\n",
              "        [0.9879149],\n",
              "        [0.9635961]],\n",
              "\n",
              "       [[1.4668089],\n",
              "        [1.4191066],\n",
              "        [1.3470855],\n",
              "        [1.3143486],\n",
              "        [1.3452147],\n",
              "        [1.429863 ],\n",
              "        [1.4607292],\n",
              "        [1.4336044],\n",
              "        [1.3751457],\n",
              "        [1.4088179]]], dtype=float32)"
            ]
          },
          "metadata": {},
          "execution_count": 27
        }
      ]
    },
    {
      "cell_type": "code",
      "source": [
        "model = Sequential()\n",
        "model.add(LSTM(128))\n",
        "model.add(Dense(1))"
      ],
      "metadata": {
        "id": "MJNio9RHbJWm"
      },
      "execution_count": null,
      "outputs": []
    },
    {
      "cell_type": "code",
      "source": [
        "model.compile(\n",
        "    optimizer=tensorflow.keras.optimizers.Adam(learning_rate=0.01),\n",
        "    loss='mse',\n",
        "    metrics=['mse', 'mae']\n",
        ")"
      ],
      "metadata": {
        "id": "u80U7qAwb2fA"
      },
      "execution_count": null,
      "outputs": []
    },
    {
      "cell_type": "code",
      "source": [
        "mch = ModelCheckpoint('best.h5', save_best_only=True)\n",
        "es = EarlyStopping(patience=3, min_delta=1e-4, restore_best_weights=True)"
      ],
      "metadata": {
        "id": "ct1lI3_ecR0F"
      },
      "execution_count": null,
      "outputs": []
    },
    {
      "cell_type": "code",
      "source": [
        "history = model.fit(example_ds, epochs=200, callbacks=[mch, es], shuffle=False, validation_data=val_ds)"
      ],
      "metadata": {
        "colab": {
          "base_uri": "https://localhost:8080/"
        },
        "id": "NkZH_B8gckYS",
        "outputId": "1f912628-8c74-47ba-a6ac-1d14b2a8e3cc"
      },
      "execution_count": null,
      "outputs": [
        {
          "output_type": "stream",
          "name": "stdout",
          "text": [
            "Epoch 1/200\n",
            "545/545 [==============================] - 6s 7ms/step - loss: 1204829696.0000 - mse: 1204829696.0000 - mae: 32887.0078 - val_loss: 1261115008.0000 - val_mse: 1261115008.0000 - val_mae: 35355.9922\n",
            "Epoch 2/200\n",
            "545/545 [==============================] - 3s 6ms/step - loss: 1160889472.0000 - mse: 1160889472.0000 - mae: 32212.0957 - val_loss: 1214195328.0000 - val_mse: 1214195328.0000 - val_mae: 34686.1172\n",
            "Epoch 3/200\n",
            "545/545 [==============================] - 3s 6ms/step - loss: 1118513536.0000 - mse: 1118513536.0000 - mae: 31547.4316 - val_loss: 1168846976.0000 - val_mse: 1168846976.0000 - val_mae: 34026.1406\n",
            "Epoch 4/200\n",
            "545/545 [==============================] - 3s 6ms/step - loss: 1077417472.0000 - mse: 1077417472.0000 - mae: 30889.2109 - val_loss: 1124626176.0000 - val_mse: 1124626176.0000 - val_mae: 33370.0117\n",
            "Epoch 5/200\n",
            "545/545 [==============================] - 4s 6ms/step - loss: 1037457728.0000 - mse: 1037457728.0000 - mae: 30235.6738 - val_loss: 1081565952.0000 - val_mse: 1081565952.0000 - val_mae: 32718.4824\n",
            "Epoch 6/200\n",
            "545/545 [==============================] - 4s 6ms/step - loss: 998581696.0000 - mse: 998581696.0000 - mae: 29585.6367 - val_loss: 1039550016.0000 - val_mse: 1039550016.0000 - val_mae: 32069.9746\n",
            "Epoch 7/200\n",
            "545/545 [==============================] - 3s 6ms/step - loss: 960728832.0000 - mse: 960728832.0000 - mae: 28939.0371 - val_loss: 998552256.0000 - val_mse: 998552256.0000 - val_mae: 31424.2539\n",
            "Epoch 8/200\n",
            "545/545 [==============================] - 4s 6ms/step - loss: 923835648.0000 - mse: 923835648.0000 - mae: 28294.2305 - val_loss: 958549312.0000 - val_mse: 958549312.0000 - val_mae: 30781.2012\n",
            "Epoch 9/200\n",
            "545/545 [==============================] - 3s 6ms/step - loss: 887918272.0000 - mse: 887918272.0000 - mae: 27652.4199 - val_loss: 919531328.0000 - val_mse: 919531328.0000 - val_mae: 30140.7324\n",
            "Epoch 10/200\n",
            "545/545 [==============================] - 3s 6ms/step - loss: 852939328.0000 - mse: 852939328.0000 - mae: 27012.3535 - val_loss: 881396608.0000 - val_mse: 881396608.0000 - val_mae: 29501.3477\n",
            "Epoch 11/200\n",
            "545/545 [==============================] - 3s 6ms/step - loss: 818876288.0000 - mse: 818876288.0000 - mae: 26374.5781 - val_loss: 844221568.0000 - val_mse: 844221568.0000 - val_mae: 28864.3984\n",
            "Epoch 12/200\n",
            "545/545 [==============================] - 3s 6ms/step - loss: 785719488.0000 - mse: 785719488.0000 - mae: 25738.3164 - val_loss: 807911872.0000 - val_mse: 807911872.0000 - val_mae: 28228.4434\n",
            "Epoch 13/200\n",
            "545/545 [==============================] - 3s 6ms/step - loss: 753459392.0000 - mse: 753459392.0000 - mae: 25103.4688 - val_loss: 772561472.0000 - val_mse: 772561472.0000 - val_mae: 27595.1934\n",
            "Epoch 14/200\n",
            "545/545 [==============================] - 3s 6ms/step - loss: 722075904.0000 - mse: 722075904.0000 - mae: 24470.7422 - val_loss: 738061760.0000 - val_mse: 738061760.0000 - val_mae: 26962.8457\n",
            "Epoch 15/200\n",
            "545/545 [==============================] - 3s 6ms/step - loss: 691561152.0000 - mse: 691561152.0000 - mae: 23838.9082 - val_loss: 704454976.0000 - val_mse: 704454976.0000 - val_mae: 26332.2383\n",
            "Epoch 16/200\n",
            "545/545 [==============================] - 3s 6ms/step - loss: 661974528.0000 - mse: 661974528.0000 - mae: 23210.0996 - val_loss: 671842048.0000 - val_mse: 671842048.0000 - val_mae: 25705.5273\n",
            "Epoch 17/200\n",
            "545/545 [==============================] - 3s 6ms/step - loss: 633332160.0000 - mse: 633332160.0000 - mae: 22584.7012 - val_loss: 640148352.0000 - val_mse: 640148352.0000 - val_mae: 25081.4824\n",
            "Epoch 18/200\n",
            "545/545 [==============================] - 3s 6ms/step - loss: 605591040.0000 - mse: 605591040.0000 - mae: 21962.0762 - val_loss: 609319808.0000 - val_mse: 609319808.0000 - val_mae: 24459.1953\n",
            "Epoch 19/200\n",
            "545/545 [==============================] - 3s 6ms/step - loss: 578718976.0000 - mse: 578718976.0000 - mae: 21341.4922 - val_loss: 579422272.0000 - val_mse: 579422272.0000 - val_mae: 23840.1934\n",
            "Epoch 20/200\n",
            "545/545 [==============================] - 3s 6ms/step - loss: 552709120.0000 - mse: 552709120.0000 - mae: 20722.9453 - val_loss: 550393472.0000 - val_mse: 550393472.0000 - val_mae: 23223.3730\n",
            "Epoch 21/200\n",
            "545/545 [==============================] - 3s 6ms/step - loss: 527581984.0000 - mse: 527581984.0000 - mae: 20107.7461 - val_loss: 522247584.0000 - val_mse: 522247584.0000 - val_mae: 22609.2852\n",
            "Epoch 22/200\n",
            "545/545 [==============================] - 3s 6ms/step - loss: 503320512.0000 - mse: 503320512.0000 - mae: 19495.0254 - val_loss: 494995424.0000 - val_mse: 494995424.0000 - val_mae: 21998.3574\n",
            "Epoch 23/200\n",
            "545/545 [==============================] - 4s 6ms/step - loss: 479957632.0000 - mse: 479957632.0000 - mae: 18886.0156 - val_loss: 468627616.0000 - val_mse: 468627616.0000 - val_mae: 21390.6562\n",
            "Epoch 24/200\n",
            "545/545 [==============================] - 3s 6ms/step - loss: 457476768.0000 - mse: 457476768.0000 - mae: 18285.2227 - val_loss: 443243712.0000 - val_mse: 443243712.0000 - val_mae: 20788.8535\n",
            "Epoch 25/200\n",
            "545/545 [==============================] - 3s 6ms/step - loss: 435832096.0000 - mse: 435832096.0000 - mae: 17710.0156 - val_loss: 418629888.0000 - val_mse: 418629888.0000 - val_mae: 20188.1738\n",
            "Epoch 26/200\n",
            "545/545 [==============================] - 4s 6ms/step - loss: 415053664.0000 - mse: 415053664.0000 - mae: 17175.6289 - val_loss: 394989568.0000 - val_mse: 394989568.0000 - val_mae: 19593.9238\n",
            "Epoch 27/200\n",
            "545/545 [==============================] - 3s 6ms/step - loss: 395137952.0000 - mse: 395137952.0000 - mae: 16673.7266 - val_loss: 372114656.0000 - val_mse: 372114656.0000 - val_mae: 19001.2344\n",
            "Epoch 28/200\n",
            "545/545 [==============================] - 4s 7ms/step - loss: 376031776.0000 - mse: 376031776.0000 - mae: 16207.9912 - val_loss: 350116224.0000 - val_mse: 350116224.0000 - val_mae: 18413.2812\n",
            "Epoch 29/200\n",
            "545/545 [==============================] - 3s 6ms/step - loss: 357783232.0000 - mse: 357783232.0000 - mae: 15793.1396 - val_loss: 329031552.0000 - val_mse: 329031552.0000 - val_mae: 17831.5449\n",
            "Epoch 30/200\n",
            "545/545 [==============================] - 4s 6ms/step - loss: 340359936.0000 - mse: 340359936.0000 - mae: 15426.1104 - val_loss: 308749824.0000 - val_mse: 308749824.0000 - val_mae: 17253.4785\n",
            "Epoch 31/200\n",
            "545/545 [==============================] - 3s 6ms/step - loss: 324244640.0000 - mse: 324244640.0000 - mae: 15011.6973 - val_loss: 289171520.0000 - val_mse: 289171520.0000 - val_mae: 16676.5215\n",
            "Epoch 32/200\n",
            "545/545 [==============================] - 4s 6ms/step - loss: 305525664.0000 - mse: 305525664.0000 - mae: 14309.3418 - val_loss: 269324224.0000 - val_mse: 269324224.0000 - val_mae: 16070.3604\n",
            "Epoch 33/200\n",
            "545/545 [==============================] - 3s 6ms/step - loss: 288871968.0000 - mse: 288871968.0000 - mae: 13829.6406 - val_loss: 250706128.0000 - val_mse: 250706128.0000 - val_mae: 15480.2520\n",
            "Epoch 34/200\n",
            "545/545 [==============================] - 3s 6ms/step - loss: 273115520.0000 - mse: 273115520.0000 - mae: 13378.7617 - val_loss: 232979216.0000 - val_mse: 232979216.0000 - val_mae: 14896.6904\n",
            "Epoch 35/200\n",
            "545/545 [==============================] - 3s 6ms/step - loss: 257984896.0000 - mse: 257984896.0000 - mae: 12925.7998 - val_loss: 216009888.0000 - val_mse: 216009888.0000 - val_mae: 14315.7979\n",
            "Epoch 36/200\n",
            "545/545 [==============================] - 3s 6ms/step - loss: 243547744.0000 - mse: 243547744.0000 - mae: 12512.4824 - val_loss: 199815504.0000 - val_mse: 199815504.0000 - val_mae: 13738.5479\n",
            "Epoch 37/200\n",
            "545/545 [==============================] - 3s 6ms/step - loss: 229626240.0000 - mse: 229626240.0000 - mae: 12065.5420 - val_loss: 184403792.0000 - val_mse: 184403792.0000 - val_mae: 13165.7285\n",
            "Epoch 38/200\n",
            "545/545 [==============================] - 3s 6ms/step - loss: 216300928.0000 - mse: 216300928.0000 - mae: 11627.9619 - val_loss: 169733680.0000 - val_mse: 169733680.0000 - val_mae: 12596.2744\n",
            "Epoch 39/200\n",
            "545/545 [==============================] - 3s 6ms/step - loss: 203532592.0000 - mse: 203532592.0000 - mae: 11185.0684 - val_loss: 155780768.0000 - val_mse: 155780768.0000 - val_mae: 12029.6729\n",
            "Epoch 40/200\n",
            "545/545 [==============================] - 4s 6ms/step - loss: 191362592.0000 - mse: 191362592.0000 - mae: 10749.1680 - val_loss: 142573216.0000 - val_mse: 142573216.0000 - val_mae: 11467.6006\n",
            "Epoch 41/200\n",
            "545/545 [==============================] - 3s 6ms/step - loss: 179774352.0000 - mse: 179774352.0000 - mae: 10363.4395 - val_loss: 129916264.0000 - val_mse: 129916264.0000 - val_mae: 10902.3281\n",
            "Epoch 42/200\n",
            "545/545 [==============================] - 3s 6ms/step - loss: 168461472.0000 - mse: 168461472.0000 - mae: 9908.4531 - val_loss: 118003624.0000 - val_mse: 118003624.0000 - val_mae: 10341.2344\n",
            "Epoch 43/200\n",
            "545/545 [==============================] - 4s 6ms/step - loss: 159945888.0000 - mse: 159945888.0000 - mae: 9598.1992 - val_loss: 115087560.0000 - val_mse: 115087560.0000 - val_mae: 10199.4258\n",
            "Epoch 44/200\n",
            "545/545 [==============================] - 4s 6ms/step - loss: 155141632.0000 - mse: 155141632.0000 - mae: 9387.7803 - val_loss: 103889760.0000 - val_mse: 103889760.0000 - val_mae: 9634.5938\n",
            "Epoch 45/200\n",
            "545/545 [==============================] - 3s 6ms/step - loss: 145132912.0000 - mse: 145132912.0000 - mae: 8968.2803 - val_loss: 93580704.0000 - val_mse: 93580704.0000 - val_mae: 9083.8271\n",
            "Epoch 46/200\n",
            "545/545 [==============================] - 4s 6ms/step - loss: 135772960.0000 - mse: 135772960.0000 - mae: 8589.0811 - val_loss: 84008008.0000 - val_mse: 84008008.0000 - val_mae: 8542.7500\n",
            "Epoch 47/200\n",
            "545/545 [==============================] - 4s 6ms/step - loss: 126944120.0000 - mse: 126944120.0000 - mae: 8186.3120 - val_loss: 75196616.0000 - val_mse: 75196616.0000 - val_mae: 8030.2144\n",
            "Epoch 48/200\n",
            "545/545 [==============================] - 3s 6ms/step - loss: 118723808.0000 - mse: 118723808.0000 - mae: 7817.6421 - val_loss: 67067956.0000 - val_mse: 67067956.0000 - val_mae: 7522.0752\n",
            "Epoch 49/200\n",
            "545/545 [==============================] - 3s 6ms/step - loss: 113022072.0000 - mse: 113022072.0000 - mae: 7579.5132 - val_loss: 59825304.0000 - val_mse: 59825304.0000 - val_mae: 7059.7842\n",
            "Epoch 50/200\n",
            "545/545 [==============================] - 3s 6ms/step - loss: 103653024.0000 - mse: 103653024.0000 - mae: 7114.5264 - val_loss: 52892176.0000 - val_mse: 52892176.0000 - val_mae: 6565.4048\n",
            "Epoch 51/200\n",
            "545/545 [==============================] - 3s 6ms/step - loss: 96992624.0000 - mse: 96992624.0000 - mae: 6805.4761 - val_loss: 46448376.0000 - val_mse: 46448376.0000 - val_mae: 6054.9189\n",
            "Epoch 52/200\n",
            "545/545 [==============================] - 3s 6ms/step - loss: 90761144.0000 - mse: 90761144.0000 - mae: 6485.2959 - val_loss: 41094596.0000 - val_mse: 41094596.0000 - val_mae: 5628.7358\n",
            "Epoch 53/200\n",
            "545/545 [==============================] - 3s 6ms/step - loss: 85005216.0000 - mse: 85005216.0000 - mae: 6218.9570 - val_loss: 36362752.0000 - val_mse: 36362752.0000 - val_mae: 5206.5156\n",
            "Epoch 54/200\n",
            "545/545 [==============================] - 3s 6ms/step - loss: 83182032.0000 - mse: 83182032.0000 - mae: 6094.7788 - val_loss: 36137168.0000 - val_mse: 36137168.0000 - val_mae: 5170.1084\n",
            "Epoch 55/200\n",
            "545/545 [==============================] - 3s 6ms/step - loss: 79463912.0000 - mse: 79463912.0000 - mae: 5931.2065 - val_loss: 31761958.0000 - val_mse: 31761958.0000 - val_mae: 4754.4238\n",
            "Epoch 56/200\n",
            "545/545 [==============================] - 3s 6ms/step - loss: 74118544.0000 - mse: 74118544.0000 - mae: 5613.1875 - val_loss: 27386070.0000 - val_mse: 27386070.0000 - val_mae: 4318.5786\n",
            "Epoch 57/200\n",
            "545/545 [==============================] - 3s 6ms/step - loss: 69538104.0000 - mse: 69538104.0000 - mae: 5364.3301 - val_loss: 24427552.0000 - val_mse: 24427552.0000 - val_mae: 3983.7861\n",
            "Epoch 58/200\n",
            "545/545 [==============================] - 3s 6ms/step - loss: 65409384.0000 - mse: 65409384.0000 - mae: 5163.1284 - val_loss: 21307592.0000 - val_mse: 21307592.0000 - val_mae: 3689.7058\n",
            "Epoch 59/200\n",
            "545/545 [==============================] - 3s 6ms/step - loss: 61646984.0000 - mse: 61646984.0000 - mae: 4968.7993 - val_loss: 19259132.0000 - val_mse: 19259132.0000 - val_mae: 3446.6926\n",
            "Epoch 60/200\n",
            "545/545 [==============================] - 4s 6ms/step - loss: 58158716.0000 - mse: 58158716.0000 - mae: 4803.6768 - val_loss: 16639571.0000 - val_mse: 16639571.0000 - val_mae: 3165.6614\n",
            "Epoch 61/200\n",
            "545/545 [==============================] - 3s 6ms/step - loss: 54742072.0000 - mse: 54742072.0000 - mae: 4613.8418 - val_loss: 14570644.0000 - val_mse: 14570644.0000 - val_mae: 2928.9355\n",
            "Epoch 62/200\n",
            "545/545 [==============================] - 3s 6ms/step - loss: 50888464.0000 - mse: 50888464.0000 - mae: 4458.7676 - val_loss: 12013163.0000 - val_mse: 12013163.0000 - val_mae: 2643.9441\n",
            "Epoch 63/200\n",
            "545/545 [==============================] - 3s 6ms/step - loss: 47217132.0000 - mse: 47217132.0000 - mae: 4304.5083 - val_loss: 10901484.0000 - val_mse: 10901484.0000 - val_mae: 2522.1770\n",
            "Epoch 64/200\n",
            "545/545 [==============================] - 3s 6ms/step - loss: 46040468.0000 - mse: 46040468.0000 - mae: 4244.4062 - val_loss: 9858690.0000 - val_mse: 9858690.0000 - val_mae: 2401.6433\n",
            "Epoch 65/200\n",
            "545/545 [==============================] - 3s 6ms/step - loss: 42417440.0000 - mse: 42417440.0000 - mae: 4007.4045 - val_loss: 10399995.0000 - val_mse: 10399995.0000 - val_mae: 2507.5630\n",
            "Epoch 66/200\n",
            "545/545 [==============================] - 3s 6ms/step - loss: 40079580.0000 - mse: 40079580.0000 - mae: 3869.9170 - val_loss: 8533653.0000 - val_mse: 8533653.0000 - val_mae: 2255.5171\n",
            "Epoch 67/200\n",
            "545/545 [==============================] - 3s 6ms/step - loss: 38078880.0000 - mse: 38078880.0000 - mae: 3778.4382 - val_loss: 8172610.0000 - val_mse: 8172610.0000 - val_mae: 2152.2166\n",
            "Epoch 68/200\n",
            "545/545 [==============================] - 3s 6ms/step - loss: 36784408.0000 - mse: 36784408.0000 - mae: 3706.6187 - val_loss: 8469482.0000 - val_mse: 8469482.0000 - val_mae: 2288.0349\n",
            "Epoch 69/200\n",
            "545/545 [==============================] - 3s 6ms/step - loss: 34058780.0000 - mse: 34058780.0000 - mae: 3574.7168 - val_loss: 7688124.0000 - val_mse: 7688124.0000 - val_mae: 2217.1755\n",
            "Epoch 70/200\n",
            "545/545 [==============================] - 4s 6ms/step - loss: 32068906.0000 - mse: 32068906.0000 - mae: 3466.9348 - val_loss: 6501173.5000 - val_mse: 6501173.5000 - val_mae: 2028.4819\n",
            "Epoch 71/200\n",
            "545/545 [==============================] - 4s 6ms/step - loss: 30384268.0000 - mse: 30384268.0000 - mae: 3388.5850 - val_loss: 5829991.5000 - val_mse: 5829991.5000 - val_mae: 1876.3420\n",
            "Epoch 72/200\n",
            "545/545 [==============================] - 4s 6ms/step - loss: 28518060.0000 - mse: 28518060.0000 - mae: 3272.5315 - val_loss: 7721332.5000 - val_mse: 7721332.5000 - val_mae: 2291.4180\n",
            "Epoch 73/200\n",
            "545/545 [==============================] - 3s 6ms/step - loss: 27140574.0000 - mse: 27140574.0000 - mae: 3189.3179 - val_loss: 5782849.0000 - val_mse: 5782849.0000 - val_mae: 1878.8704\n",
            "Epoch 74/200\n",
            "545/545 [==============================] - 3s 6ms/step - loss: 26170142.0000 - mse: 26170142.0000 - mae: 3152.6970 - val_loss: 6278656.5000 - val_mse: 6278656.5000 - val_mae: 2042.0320\n",
            "Epoch 75/200\n",
            "545/545 [==============================] - 3s 6ms/step - loss: 24248794.0000 - mse: 24248794.0000 - mae: 3015.0708 - val_loss: 5578904.5000 - val_mse: 5578904.5000 - val_mae: 1862.0319\n",
            "Epoch 76/200\n",
            "545/545 [==============================] - 4s 6ms/step - loss: 22805916.0000 - mse: 22805916.0000 - mae: 2936.4897 - val_loss: 5265683.5000 - val_mse: 5265683.5000 - val_mae: 1899.2533\n",
            "Epoch 77/200\n",
            "545/545 [==============================] - 3s 6ms/step - loss: 21534546.0000 - mse: 21534546.0000 - mae: 2834.6328 - val_loss: 5167247.5000 - val_mse: 5167247.5000 - val_mae: 1801.2598\n",
            "Epoch 78/200\n",
            "545/545 [==============================] - 3s 6ms/step - loss: 20783834.0000 - mse: 20783834.0000 - mae: 2804.1907 - val_loss: 5184574.0000 - val_mse: 5184574.0000 - val_mae: 1835.5804\n",
            "Epoch 79/200\n",
            "545/545 [==============================] - 3s 6ms/step - loss: 19709388.0000 - mse: 19709388.0000 - mae: 2696.0510 - val_loss: 4676545.0000 - val_mse: 4676545.0000 - val_mae: 1719.3423\n",
            "Epoch 80/200\n",
            "545/545 [==============================] - 4s 6ms/step - loss: 18970920.0000 - mse: 18970920.0000 - mae: 2640.9858 - val_loss: 4973492.5000 - val_mse: 4973492.5000 - val_mae: 1730.0261\n",
            "Epoch 81/200\n",
            "545/545 [==============================] - 4s 6ms/step - loss: 17999588.0000 - mse: 17999588.0000 - mae: 2577.5452 - val_loss: 4902270.0000 - val_mse: 4902270.0000 - val_mae: 1744.3442\n",
            "Epoch 82/200\n",
            "545/545 [==============================] - 3s 6ms/step - loss: 16262189.0000 - mse: 16262189.0000 - mae: 2424.2200 - val_loss: 4825297.5000 - val_mse: 4825297.5000 - val_mae: 1724.3999\n"
          ]
        }
      ]
    },
    {
      "cell_type": "code",
      "source": [
        "figure = plt.figure(figsize=(10, 8))\n",
        "plt.plot(history.history['val_mae'], label='val')\n",
        "plt.plot(history.history['mae'], label='train')\n",
        "plt.xlabel('Epochs')\n",
        "plt.ylabel('Value')\n",
        "plt.title('MAE')\n",
        "plt.legend(loc='best')\n",
        "plt.show()"
      ],
      "metadata": {
        "colab": {
          "base_uri": "https://localhost:8080/",
          "height": 513
        },
        "id": "mqZpHJ-pdYxK",
        "outputId": "9b7f8b28-975f-45e4-b7f6-c2ca327b8508"
      },
      "execution_count": null,
      "outputs": [
        {
          "output_type": "display_data",
          "data": {
            "image/png": "[encoded data removed]",
            "text/plain": [
              "<Figure size 720x576 with 1 Axes>"
            ]
          },
          "metadata": {}
        }
      ]
    }
  ]
}